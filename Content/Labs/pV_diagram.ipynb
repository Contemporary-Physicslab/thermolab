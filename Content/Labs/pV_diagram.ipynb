{
 "cells": [
  {
   "cell_type": "markdown",
   "id": "72309ae9",
   "metadata": {},
   "source": [
    "# pV diagram\n",
    "\n",
    "Idee: \n",
    "\n",
    "meet met de geijkte druksensor bij verschillende volumes de druk\n",
    "plot pV diagram\n",
    "maak een pV diagram met de ideale gaswet, met een onbekende volume voor de tube\n",
    "bepaal de onbekende volume en laat controleren door TA met een vooraf bepaalde waarde"
   ]
  }
 ],
 "metadata": {
  "language_info": {
   "name": "python"
  }
 },
 "nbformat": 4,
 "nbformat_minor": 5
}
