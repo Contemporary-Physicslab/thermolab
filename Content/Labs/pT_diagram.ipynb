{
 "cells": [
  {
   "cell_type": "markdown",
   "id": "c01dcac0",
   "metadata": {},
   "source": [
    "# PT"
   ]
  },
  {
   "cell_type": "markdown",
   "id": "9ae21e8f",
   "metadata": {},
   "source": [
    "Met de brandblusser uitvoeren\n",
    "\n",
    "en dan uit elkaar trekken voor pT en pV"
   ]
  }
 ],
 "metadata": {
  "language_info": {
   "name": "python"
  }
 },
 "nbformat": 4,
 "nbformat_minor": 5
}
