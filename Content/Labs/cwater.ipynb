{
 "cells": [
  {
   "cell_type": "markdown",
   "id": "530dbcb4",
   "metadata": {},
   "source": [
    "# Bepaling van soortelijke warmte van water\n"
   ]
  },
  {
   "cell_type": "markdown",
   "id": "db13db90",
   "metadata": {},
   "source": [
    "# Introductie\n",
    "\n",
    "Water heeft een enorme buffercapaciteit: je moet veel energie toevoegen om de temperatuur van water een graad te verwarmen. In dit practicum gaan we de soortelijke warmte van water bepalen door een bekende hoeveelheid water te verwarmen met een bekende hoeveelheid energie, en de temperatuurstijging te meten."
   ]
  },
  {
   "cell_type": "markdown",
   "id": "6ed22794",
   "metadata": {},
   "source": [
    "# Theorie\n",
    "\n",
    "Geef hier de natuurkundige achtergrond van het onderwerp. "
   ]
  },
  {
   "cell_type": "markdown",
   "id": "df11ba50",
   "metadata": {},
   "source": [
    "# Methode en materialen\n",
    "\n",
    "## Ontwerp\n",
    "Een bekertje met bekende massa aan water wordt verwarmd met een elektrische verwarmingselement dat een bekende hoeveelheid energie levert. De temperatuur van het water wordt gemeten met een temperatuursensor. Door de temperatuurstijging als functie van de tijd te meten kan de soortelijke warmte van water worden berekend.\n",
    "\n",
    "\n",
    "## Materialen\n",
    "- Maatbeker\n",
    "- Weegschaal\n",
    "- Water\n",
    "- Elektrisch verwarmingselement ($100 \\mathrm{\\Omega}$, $10 \\mathrm{W}$)\n",
    "- Voedingsbron \n",
    "- Thermometer of temperatuursensor\n",
    "- Stopwatch of timer\n",
    "\n",
    "## Procedure\n",
    "\n",
    "## Veiligheid\n",
    "\n",
    "## Data analyse"
   ]
  },
  {
   "cell_type": "markdown",
   "id": "30c63491",
   "metadata": {},
   "source": [
    "# Resultaten\n"
   ]
  },
  {
   "cell_type": "code",
   "execution_count": null,
   "id": "c6329bbb",
   "metadata": {},
   "outputs": [],
   "source": [
    "# Hier de data en de analyse"
   ]
  },
  {
   "cell_type": "code",
   "execution_count": null,
   "id": "fdd3eead",
   "metadata": {},
   "outputs": [],
   "source": [
    "# Sla figuren op met  \n",
    "# \n",
    "# plt.savefig(\"Figuren/naam.png\", dpi=450)\n",
    "\n"
   ]
  },
  {
   "cell_type": "code",
   "execution_count": null,
   "id": "773638eb",
   "metadata": {},
   "outputs": [],
   "source": []
  },
  {
   "cell_type": "markdown",
   "id": "4f470ab9",
   "metadata": {},
   "source": [
    "# Discussie en conclusie\n",
    "\n",
    "Hier een korte discussie en conclusie over de resultaten van het experiment en de implicaties daarvan."
   ]
  }
 ],
 "metadata": {
  "language_info": {
   "name": "python"
  }
 },
 "nbformat": 4,
 "nbformat_minor": 5
}
