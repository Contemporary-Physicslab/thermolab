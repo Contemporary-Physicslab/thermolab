{
 "cells": [
  {
   "cell_type": "markdown",
   "id": "530dbcb4",
   "metadata": {},
   "source": [
    "# Bepaling van warmtecapaciteit van een onbekend materiaal\n"
   ]
  },
  {
   "cell_type": "markdown",
   "id": "db13db90",
   "metadata": {},
   "source": [
    "# Introductie\n",
    "\n",
    "Onbekend materialen kunnen geidentificeerd worden door hun eigenschappen te meten. Een van deze eigenschappen is de warmtecapaciteit. In dit practicum gaan we de warmtecapaciteit van een onbekend materiaal bepalen door middel van een calorimeter experiment. Daarbij wordt een bepaalde massa van het materiaal naar een bekende temperatuur gebracht waarna het in een bekende hoeveelheid water met bekende temperatuur wordt geplaats. Door de temperatuur van het water te meten na het mengen kan de warmtecapaciteit van het onbekende materiaal worden berekend."
   ]
  },
  {
   "cell_type": "markdown",
   "id": "6ed22794",
   "metadata": {},
   "source": [
    "# Theorie\n",
    "\n",
    "De soortelijke warmte $c$ van een materiaal is gedefinieerd als de hoeveelheid warmte $Q$ die nodig is om de temperatuur $T$ van een kilogram van het materiaal met één graad Celsius (of één Kelvin) te verhogen:\n",
    "\n",
    "$$ \n",
    "\\label{eq:heat_capacity}\n",
    "    c = \\frac{Q}{m \\Delta T} \n",
    "$$\n",
    "\n",
    "Waarbij $Q$ de hoeveelheid warmte in Joules is, $m$ de massa in kilogram is en $\\Delta T$ de verandering in temperatuur is. Gegeven de wet van Black, die stelt dat de totale hoeveelheid warmte in een geïsoleerd systeem constant blijft, kunnen we de warmte die het onbekende materiaal verliest gelijkstellen aan de warmte die het water opneemt:\n",
    "\n",
    "$$ Q_{materiaal} = -Q_{water} $$ (eq:black)\n",
    "\n",
    "wanneer we de massa's en de begin temperaturen van beide systemen kennen, maar slechts een van de twee soortelijke warmtes, kunnen we de onbekende warmtecapaciteit berekenen. We combineren vergelijkingen [](eq:heat_capacity) en [](eq:black) om de volgende vergelijking te krijgen:\n",
    "\n",
    "$$ \n",
    "\\label{eq:combined}\n",
    "    T_e = \\frac{c_w m_w T_{w,b}+c_m m_m T_{m,b}}{c_w m_w + c_m m_m} \n",
    "$$\n",
    "\n",
    "Waarbij de subscripts $b$ en $e$ respectievelijk staan voor begintoestand en eindtoestand, $w$ voor water en $m$ voor het onbekende materiaal.\n",
    "\n",
    "Bij metingen aan verschillende massa's van het onbekende materiaal en vervolgens een least square fit aan bovenstaande vergelijking kunnen we een precieze waarde voor de soortelijke warmte van het onbekende materiaal bepalen. Dat is, wanneer de warmtecapaciteit van bijvoorbeeld de beker te verwaarlozen is.\n"
   ]
  },
  {
   "cell_type": "markdown",
   "id": "df11ba50",
   "metadata": {},
   "source": [
    "# Methode en materialen\n",
    "\n",
    "## Ontwerp\n",
    "\n",
    "## Materialen\n",
    "\n",
    "\n",
    "\n",
    "## Procedure\n",
    "\n",
    "## Veiligheid\n",
    "\n",
    "## Data analyse"
   ]
  },
  {
   "cell_type": "markdown",
   "id": "30c63491",
   "metadata": {},
   "source": [
    "# Resultaten\n"
   ]
  },
  {
   "cell_type": "code",
   "execution_count": null,
   "id": "c6329bbb",
   "metadata": {},
   "outputs": [],
   "source": [
    "# Hier de data en de analyse"
   ]
  },
  {
   "cell_type": "code",
   "execution_count": null,
   "id": "fdd3eead",
   "metadata": {},
   "outputs": [],
   "source": [
    "# Sla figuren op met  \n",
    "# \n",
    "# plt.savefig(\"Figuren/naam.png\", dpi=450)\n",
    "\n"
   ]
  },
  {
   "cell_type": "code",
   "execution_count": null,
   "id": "773638eb",
   "metadata": {},
   "outputs": [],
   "source": []
  },
  {
   "cell_type": "markdown",
   "id": "4f470ab9",
   "metadata": {},
   "source": [
    "# Discussie en conclusie\n",
    "\n",
    "Hier een korte discussie en conclusie over de resultaten van het experiment en de implicaties daarvan."
   ]
  }
 ],
 "metadata": {
  "language_info": {
   "name": "python"
  }
 },
 "nbformat": 4,
 "nbformat_minor": 5
}
