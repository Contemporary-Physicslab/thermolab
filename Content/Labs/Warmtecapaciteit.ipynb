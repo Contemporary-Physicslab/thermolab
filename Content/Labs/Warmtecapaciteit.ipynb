{
 "cells": [
  {
   "cell_type": "markdown",
   "id": "530dbcb4",
   "metadata": {},
   "source": [
    "# Bepaling van warmtecapaciteit van een onbekend materiaal\n"
   ]
  },
  {
   "cell_type": "markdown",
   "id": "db13db90",
   "metadata": {},
   "source": [
    "# Introductie\n",
    "\n",
    "Onbekend materialen kunnen geidentificeerd worden door hun eigenschappen te meten. Een van deze eigenschappen is de warmtecapaciteit. In dit practicum gaan we de warmtecapaciteit van een onbekend materiaal bepalen door middel van een calorimeter experiment. Daarbij wordt een bepaalde massa van het materiaal naar een bekende temperatuur gebracht waarna het in een bekende hoeveelheid water met bekende temperatuur wordt geplaats. Door de temperatuur van het water te meten na het mengen kan de warmtecapaciteit van het onbekende materiaal worden berekend."
   ]
  },
  {
   "cell_type": "markdown",
   "id": "6ed22794",
   "metadata": {},
   "source": [
    "# Theorie\n",
    "\n",
    "De soortelijke warmte $c$ van een materiaal is gedefinieerd als de hoeveelheid warmte $Q$ die nodig is om de temperatuur $T$ van een kilogram van het materiaal met één graad Celsius (of één Kelvin) te verhogen:\n",
    "\n",
    "$$ \n",
    "\\label{eq:heat_capacity}\n",
    "    c = \\frac{Q}{m \\Delta T} \n",
    "$$\n",
    "\n",
    "Waarbij $Q$ de hoeveelheid warmte in Joules is, $m$ de massa in kilogram is en $\\Delta T$ de verandering in temperatuur is. Gegeven de wet van Black, die stelt dat de totale hoeveelheid warmte in een geïsoleerd systeem constant blijft, kunnen we de warmte die het onbekende materiaal verliest gelijkstellen aan de warmte die het water opneemt:\n",
    "\n",
    "$$ Q_{materiaal} = -Q_{water} $$ (eq:black)\n",
    "\n",
    "wanneer we de massa's en de begin temperaturen van beide systemen kennen, maar slechts een van de twee soortelijke warmtes, kunnen we de onbekende soortelijke warmte berekenen. We combineren vergelijkingen [](eq:heat_capacity) en [](eq:black) om de volgende vergelijking te krijgen:\n",
    "\n",
    "$$ \n",
    "\\label{eq:combined}\n",
    "    T_e = \\frac{c_w m_w T_{w,b}+c_m m_m T_{m,b}}{c_w m_w + c_m m_m} \n",
    "$$\n",
    "\n",
    "Waarbij de subscripts $b$ en $e$ respectievelijk staan voor begintoestand en eindtoestand, $w$ voor water en $m$ voor het onbekende materiaal.\n",
    "\n",
    "Bij metingen aan verschillende massa's van het onbekende materiaal en vervolgens een least square fit aan bovenstaande vergelijking kunnen we een precieze waarde voor de soortelijke warmte van het onbekende materiaal bepalen. Dat is, wanneer de warmtecapaciteit van bijvoorbeeld de beker te verwaarlozen is.\n"
   ]
  },
  {
   "cell_type": "markdown",
   "id": "df11ba50",
   "metadata": {},
   "source": [
    "# Methode en materialen\n",
    "\n",
    "## Ontwerp\n",
    "De bovenstaande theorie wordt gebruikt om de soortelijke warmte van een onbekend materiaal te bepalen. Het experiment bestaat uit het verwarmen van verschillende massa's van het onbekende materiaal tot een bekende temperatuur, waarna het in een bekende hoeveelheid water met bekende temperatuur wordt geplaats. Door de temperatuur van het water te meten na het mengen kan de warmtecapaciteit van het onbekende materiaal worden berekend. Om de tijd voor het meten van meerdere materialen te reduceren, worden de data van de verschillende groepen in het lokaal samengevoegd. Van te voren is afgesproken welke massa's door welke groep worden gemeten, en hoeveel water er gebruikt wordt.\n",
    "\n",
    "## Materialen\n",
    "- Calorimeter\n",
    "- Thermometer of temperatuursensor\n",
    "- Verwarmingsbron \n",
    "- Diverse massablokjes van onbekend materiaal\n",
    "- Weegschaal\n",
    "- Water\n",
    "- Maatcilinder of maatbeker\n",
    "\n",
    "\n",
    "## Procedure\n",
    "\n",
    "## Veiligheid\n",
    "\n",
    "## Data analyse"
   ]
  },
  {
   "cell_type": "markdown",
   "id": "30c63491",
   "metadata": {},
   "source": [
    "# Resultaten\n"
   ]
  },
  {
   "cell_type": "code",
   "execution_count": 2,
   "id": "c6329bbb",
   "metadata": {
    "tags": [
     "hide-input"
    ]
   },
   "outputs": [],
   "source": [
    "# Hier de data en de analyse\n",
    "import numpy as np\n",
    "import matplotlib.pyplot as plt\n",
    "from scipy.optimize import curve_fit"
   ]
  },
  {
   "cell_type": "code",
   "execution_count": 3,
   "id": "fdd3eead",
   "metadata": {
    "tags": [
     "hide-input",
     "hide-output"
    ]
   },
   "outputs": [
    {
     "data": {
      "image/png": "[encoded data removed]",
      "text/plain": [
       "<Figure size 640x480 with 1 Axes>"
      ]
     },
     "metadata": {},
     "output_type": "display_data"
    }
   ],
   "source": [
    "# Sla figuren op met  \n",
    "# \n",
    "# plt.savefig(\"Figuren/naam.png\", dpi=450)\n",
    "# waarbij naam vervangen wordt door de bestandsnaam. \n",
    "# Onderstaande voorbeeld code en output grafiek \n",
    "\n",
    "x = np.linspace(0,10,11)\n",
    "y = 2*x\n",
    "\n",
    "# Maken van de grafiek\n",
    "plt.figure()\n",
    "plt.xlabel('$x$(m)')\n",
    "plt.ylabel('$y(m)$')\n",
    "\n",
    "plt.plot(x,y,'k.')\n",
    "plt.savefig(\"Figuren/naam.png\", dpi=450)\n",
    "plt.show()\n"
   ]
  },
  {
   "cell_type": "code",
   "execution_count": null,
   "id": "773638eb",
   "metadata": {},
   "outputs": [],
   "source": []
  },
  {
   "cell_type": "markdown",
   "id": "cc07e45e",
   "metadata": {},
   "source": [
    "In {numref}`fig_Wc_graph_1` ... \n",
    "\n",
    "```{figure} Figuren/naam.png\n",
    ":width: 80%\n",
    ":name: fig_Wc_graph_1\n",
    "\n",
    "Hier komt een beschrijving van de figuur.\n",
    "```"
   ]
  },
  {
   "cell_type": "markdown",
   "id": "4f470ab9",
   "metadata": {},
   "source": [
    "# Discussie en conclusie\n",
    "\n",
    "Hier een korte discussie en conclusie over de resultaten van het experiment en de implicaties daarvan."
   ]
  }
 ],
 "metadata": {
  "kernelspec": {
   "display_name": "base",
   "language": "python",
   "name": "python3"
  },
  "language_info": {
   "codemirror_mode": {
    "name": "ipython",
    "version": 3
   },
   "file_extension": ".py",
   "mimetype": "text/x-python",
   "name": "python",
   "nbconvert_exporter": "python",
   "pygments_lexer": "ipython3",
   "version": "3.13.5"
  }
 },
 "nbformat": 4,
 "nbformat_minor": 5
}
